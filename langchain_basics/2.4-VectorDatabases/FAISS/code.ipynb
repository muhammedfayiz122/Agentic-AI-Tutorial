{
 "cells": [
  {
   "cell_type": "code",
   "execution_count": 3,
   "id": "d4459a91",
   "metadata": {},
   "outputs": [],
   "source": [
    "import getpass\n",
    "import os\n",
    "from dotenv import load_dotenv \n",
    "load_dotenv()\n",
    "os.environ[\"GOOGLE_API_KEY\"] = os.getenv(\"GOOGLE_API_KEY\")\n",
    "\n",
    "from langchain_google_genai import GoogleGenerativeAIEmbeddings\n",
    "\n",
    "google_embeddings = GoogleGenerativeAIEmbeddings(model=\"models/embedding-001\")"
   ]
  },
  {
   "cell_type": "code",
   "execution_count": 4,
   "id": "d5657719",
   "metadata": {},
   "outputs": [
    {
     "name": "stderr",
     "output_type": "stream",
     "text": [
      "C:\\Users\\muham\\AppData\\Roaming\\Python\\Python313\\site-packages\\tqdm\\auto.py:21: TqdmWarning: IProgress not found. Please update jupyter and ipywidgets. See https://ipywidgets.readthedocs.io/en/stable/user_install.html\n",
      "  from .autonotebook import tqdm as notebook_tqdm\n"
     ]
    }
   ],
   "source": [
    "from langchain_huggingface import HuggingFaceEmbeddings\n",
    "hf_embeddings = HuggingFaceEmbeddings(model_name=\"all-MiniLM-L6-v2\")"
   ]
  },
  {
   "cell_type": "code",
   "execution_count": 5,
   "id": "9418f0b5",
   "metadata": {},
   "outputs": [],
   "source": [
    "documents = [\"who is a prime minister of usa?\",\n",
    "            \"who is a prime minister of india \",\n",
    "            \"who is president of india\"\n",
    "]\n",
    "query = \"modu is prime minister of india\"\n"
   ]
  },
  {
   "cell_type": "code",
   "execution_count": 1,
   "id": "dfceb798",
   "metadata": {},
   "outputs": [],
   "source": [
    "from sklearn.metrics.pairwise import cosine_distances"
   ]
  },
  {
   "cell_type": "code",
   "execution_count": 7,
   "id": "f1f8a3f0",
   "metadata": {},
   "outputs": [],
   "source": [
    "doc_embed = hf_embeddings.embed_documents(documents)\n",
    "query_embed = hf_embeddings.embed_query(query)"
   ]
  },
  {
   "cell_type": "code",
   "execution_count": 11,
   "id": "be245e05",
   "metadata": {},
   "outputs": [
    {
     "data": {
      "text/plain": [
       "384"
      ]
     },
     "execution_count": 11,
     "metadata": {},
     "output_type": "execute_result"
    }
   ],
   "source": [
    "len(doc_embed[0])"
   ]
  },
  {
   "cell_type": "code",
   "execution_count": 12,
   "id": "92d5c82c",
   "metadata": {},
   "outputs": [
    {
     "data": {
      "text/plain": [
       "array([[0.53137919, 0.33506707, 0.46330399]])"
      ]
     },
     "execution_count": 12,
     "metadata": {},
     "output_type": "execute_result"
    }
   ],
   "source": [
    "from sklearn.metrics.pairwise import cosine_distances\n",
    "cosine_distances([query_embed],doc_embed)"
   ]
  },
  {
   "cell_type": "code",
   "execution_count": 13,
   "id": "129c21ce",
   "metadata": {},
   "outputs": [
    {
     "data": {
      "text/plain": [
       "array([[1.03090174, 0.81861722, 0.96260478]])"
      ]
     },
     "execution_count": 13,
     "metadata": {},
     "output_type": "execute_result"
    }
   ],
   "source": [
    "from sklearn.metrics.pairwise import euclidean_distances\n",
    "euclidean_distances([query_embed],doc_embed)"
   ]
  },
  {
   "cell_type": "code",
   "execution_count": null,
   "id": "792411e3",
   "metadata": {},
   "outputs": [],
   "source": [
    "from langchain_core.vectorstores import InMemoryVectorStore\n",
    "\n"
   ]
  },
  {
   "cell_type": "markdown",
   "id": "3b6bae73",
   "metadata": {},
   "source": [
    "*vectore store part*\n",
    "Document -> Document loader -> Document splitter -> Chunking -> Create index (with custom dimension) -> Vector store (FAISS) (need : embedding) -> Add documents -> setup retriever -> Setup context -> final chaining -> ready to query"
   ]
  },
  {
   "cell_type": "code",
   "execution_count": 14,
   "id": "02564fef",
   "metadata": {},
   "outputs": [],
   "source": [
    "from langchain_community.vectorstores import FAISS"
   ]
  },
  {
   "cell_type": "code",
   "execution_count": 15,
   "id": "d826a8df",
   "metadata": {},
   "outputs": [],
   "source": [
    "import faiss\n",
    "index = faiss.IndexFlatL2(384) "
   ]
  },
  {
   "cell_type": "code",
   "execution_count": 17,
   "id": "9b1298c0",
   "metadata": {},
   "outputs": [],
   "source": [
    "from langchain_community.docstore.in_memory import InMemoryDocstore"
   ]
  },
  {
   "cell_type": "code",
   "execution_count": 20,
   "id": "057fc372",
   "metadata": {},
   "outputs": [],
   "source": [
    "vector_store = FAISS(\n",
    "    embedding_function=hf_embeddings,\n",
    "    index=index,\n",
    "    docstore=InMemoryDocstore(),\n",
    "    index_to_docstore_id={}\n",
    ")"
   ]
  },
  {
   "cell_type": "code",
   "execution_count": 21,
   "id": "b60e49ed",
   "metadata": {},
   "outputs": [
    {
     "data": {
      "text/plain": [
       "['010708f1-eb1b-4070-afb7-7b5163fcad91',\n",
       " 'b23034f2-6edd-4ea0-9235-370adfa47e8a',\n",
       " '73923718-4d80-4a0b-91a1-64de07fd8e3a']"
      ]
     },
     "execution_count": 21,
     "metadata": {},
     "output_type": "execute_result"
    }
   ],
   "source": [
    "vector_store.add_texts([\"AI is future\",\"AI is powerful\",\"Dogs are cute\"])"
   ]
  },
  {
   "cell_type": "code",
   "execution_count": 32,
   "id": "91503f95",
   "metadata": {},
   "outputs": [
    {
     "data": {
      "text/plain": [
       "[Document(id='73923718-4d80-4a0b-91a1-64de07fd8e3a', metadata={}, page_content='Dogs are cute')]"
      ]
     },
     "execution_count": 32,
     "metadata": {},
     "output_type": "execute_result"
    }
   ],
   "source": [
    "vector_store.similarity_search(\"is cute?\", k=1)"
   ]
  },
  {
   "cell_type": "code",
   "execution_count": 35,
   "id": "7387c47b",
   "metadata": {},
   "outputs": [],
   "source": [
    "retriever = vector_store.as_retriever(search_kwargs={\"k\":1})"
   ]
  },
  {
   "cell_type": "code",
   "execution_count": 37,
   "id": "e49c25dc",
   "metadata": {},
   "outputs": [
    {
     "data": {
      "text/plain": [
       "[Document(id='b23034f2-6edd-4ea0-9235-370adfa47e8a', metadata={}, page_content='AI is powerful')]"
      ]
     },
     "execution_count": 37,
     "metadata": {},
     "output_type": "execute_result"
    }
   ],
   "source": [
    "retriever.invoke(\"is AI cute?\")"
   ]
  },
  {
   "cell_type": "code",
   "execution_count": 38,
   "id": "c33958bd",
   "metadata": {},
   "outputs": [],
   "source": [
    "vector_store.save_local(\"vs\")"
   ]
  },
  {
   "cell_type": "code",
   "execution_count": 39,
   "id": "cd208702",
   "metadata": {},
   "outputs": [],
   "source": [
    "new_vs = FAISS.load_local(\n",
    "    \"vs\", hf_embeddings, allow_dangerous_deserialization=True\n",
    ")"
   ]
  },
  {
   "cell_type": "code",
   "execution_count": 40,
   "id": "5c9efb33",
   "metadata": {},
   "outputs": [],
   "source": [
    "from langchain_google_genai import ChatGoogleGenerativeAI\n",
    "model = ChatGoogleGenerativeAI(model='gemini-1.5-flash')\n"
   ]
  },
  {
   "cell_type": "code",
   "execution_count": 41,
   "id": "c0032135",
   "metadata": {},
   "outputs": [],
   "source": [
    "from langchain import hub\n",
    "prompt = hub.pull(\"rlm/rag-prompt\")"
   ]
  },
  {
   "cell_type": "code",
   "execution_count": 43,
   "id": "c03b595b",
   "metadata": {},
   "outputs": [
    {
     "data": {
      "text/plain": [
       "ChatPromptTemplate(input_variables=['context', 'question'], input_types={}, partial_variables={}, metadata={'lc_hub_owner': 'rlm', 'lc_hub_repo': 'rag-prompt', 'lc_hub_commit_hash': '50442af133e61576e74536c6556cefe1fac147cad032f4377b60c436e6cdcb6e'}, messages=[HumanMessagePromptTemplate(prompt=PromptTemplate(input_variables=['context', 'question'], input_types={}, partial_variables={}, template=\"You are an assistant for question-answering tasks. Use the following pieces of retrieved context to answer the question. If you don't know the answer, just say that you don't know. Use three sentences maximum and keep the answer concise.\\nQuestion: {question} \\nContext: {context} \\nAnswer:\"), additional_kwargs={})])"
      ]
     },
     "execution_count": 43,
     "metadata": {},
     "output_type": "execute_result"
    }
   ],
   "source": [
    "prompt"
   ]
  },
  {
   "cell_type": "code",
   "execution_count": 46,
   "id": "d7a10f6f",
   "metadata": {},
   "outputs": [
    {
     "name": "stdout",
     "output_type": "stream",
     "text": [
      "ChatPromptTemplate(input_variables=['context', 'question'], input_types={}, partial_variables={}, metadata={'lc_hub_owner': 'rlm', 'lc_hub_repo': 'rag-prompt', 'lc_hub_commit_hash': '50442af133e61576e74536c6556cefe1fac147cad032f4377b60c436e6cdcb6e'}, messages=[HumanMessagePromptTemplate(prompt=PromptTemplate(input_variables=['context', 'question'], input_types={}, partial_variables={}, template=\"You are an assistant for question-answering tasks. Use the following pieces of retrieved context to answer the question. If you don't know the answer, just say that you don't know. Use three sentences maximum and keep the answer concise.\\nQuestion: {question} \\nContext: {context} \\nAnswer:\"), additional_kwargs={})])\n"
     ]
    }
   ],
   "source": [
    "import pprint\n",
    "pprint.pprint(prompt)"
   ]
  },
  {
   "cell_type": "code",
   "execution_count": 47,
   "id": "e724db71",
   "metadata": {},
   "outputs": [],
   "source": [
    "from langchain_core.output_parsers import StrOutputParser\n",
    "from langchain_core.runnables import RunnablePassthrough\n"
   ]
  },
  {
   "cell_type": "code",
   "execution_count": 49,
   "id": "b6e9ddfc",
   "metadata": {},
   "outputs": [],
   "source": [
    "def format_docs(docs):\n",
    "    return \"\\n\\n\".join(doc.page_content for doc in docs )"
   ]
  },
  {
   "cell_type": "code",
   "execution_count": 51,
   "id": "390271f2",
   "metadata": {},
   "outputs": [],
   "source": [
    "rag_chain = (\n",
    "    {\"context\":retriever | format_docs, \"question\": RunnablePassthrough()}\n",
    "    | prompt\n",
    "    | model\n",
    "    | StrOutputParser()\n",
    "\n",
    ")"
   ]
  },
  {
   "cell_type": "code",
   "execution_count": 52,
   "id": "1ab71a83",
   "metadata": {},
   "outputs": [
    {
     "data": {
      "text/plain": [
       "\"The provided text only states that AI is powerful, not whether it is cute.  There is no information about AI's cuteness.  Therefore, I don't know.\""
      ]
     },
     "execution_count": 52,
     "metadata": {},
     "output_type": "execute_result"
    }
   ],
   "source": [
    "rag_chain.invoke(\"is AI is cute?\")"
   ]
  }
 ],
 "metadata": {
  "kernelspec": {
   "display_name": "Python 3",
   "language": "python",
   "name": "python3"
  },
  "language_info": {
   "codemirror_mode": {
    "name": "ipython",
    "version": 3
   },
   "file_extension": ".py",
   "mimetype": "text/x-python",
   "name": "python",
   "nbconvert_exporter": "python",
   "pygments_lexer": "ipython3",
   "version": "3.13.0"
  }
 },
 "nbformat": 4,
 "nbformat_minor": 5
}
