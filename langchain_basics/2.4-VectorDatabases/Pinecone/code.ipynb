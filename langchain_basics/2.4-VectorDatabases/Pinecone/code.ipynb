{
 "cells": [
  {
   "cell_type": "code",
   "execution_count": 1,
   "id": "6a58ba4f",
   "metadata": {},
   "outputs": [
    {
     "data": {
      "text/plain": [
       "True"
      ]
     },
     "execution_count": 1,
     "metadata": {},
     "output_type": "execute_result"
    }
   ],
   "source": [
    "import os\n",
    "from dotenv import load_dotenv \n",
    "load_dotenv()"
   ]
  },
  {
   "cell_type": "code",
   "execution_count": null,
   "id": "c3245f48",
   "metadata": {},
   "outputs": [],
   "source": []
  },
  {
   "cell_type": "code",
   "execution_count": 2,
   "id": "da007013",
   "metadata": {},
   "outputs": [
    {
     "name": "stderr",
     "output_type": "stream",
     "text": [
      "C:\\Users\\muham\\AppData\\Roaming\\Python\\Python313\\site-packages\\tqdm\\auto.py:21: TqdmWarning: IProgress not found. Please update jupyter and ipywidgets. See https://ipywidgets.readthedocs.io/en/stable/user_install.html\n",
      "  from .autonotebook import tqdm as notebook_tqdm\n"
     ]
    }
   ],
   "source": [
    "from langchain_huggingface import HuggingFaceEmbeddings\n",
    "hf_embeddings = HuggingFaceEmbeddings(model_name=\"all-MiniLM-L6-v2\")"
   ]
  },
  {
   "cell_type": "code",
   "execution_count": 3,
   "id": "eddfe5e2",
   "metadata": {},
   "outputs": [
    {
     "data": {
      "text/plain": [
       "384"
      ]
     },
     "execution_count": 3,
     "metadata": {},
     "output_type": "execute_result"
    }
   ],
   "source": [
    "len(hf_embeddings.embed_query(\"hello ai\"))"
   ]
  },
  {
   "cell_type": "markdown",
   "id": "93282205",
   "metadata": {},
   "source": [
    "<h3>Step 1 : Initialize pinecone API key </h3>"
   ]
  },
  {
   "cell_type": "code",
   "execution_count": 4,
   "id": "eff83b22",
   "metadata": {},
   "outputs": [],
   "source": [
    "from pinecone import Pinecone\n",
    "import os\n",
    "pinecone_api_key = os.getenv(\"PINECONE_API_KEY\")"
   ]
  },
  {
   "cell_type": "code",
   "execution_count": 5,
   "id": "27415ab6",
   "metadata": {},
   "outputs": [
    {
     "data": {
      "text/plain": [
       "<pinecone.control.pinecone.Pinecone at 0x10bf1b6b4d0>"
      ]
     },
     "execution_count": 5,
     "metadata": {},
     "output_type": "execute_result"
    }
   ],
   "source": [
    "pc = Pinecone(api_key=pinecone_api_key)\n",
    "pc"
   ]
  },
  {
   "cell_type": "code",
   "execution_count": 6,
   "id": "82091f65",
   "metadata": {},
   "outputs": [],
   "source": [
    "from pinecone import ServerlessSpec"
   ]
  },
  {
   "cell_type": "markdown",
   "id": "f76caa92",
   "metadata": {},
   "source": [
    "<h3>Step 2 : Create pinecone Index</h3>"
   ]
  },
  {
   "cell_type": "code",
   "execution_count": null,
   "id": "dcb6e304",
   "metadata": {},
   "outputs": [
    {
     "data": {
      "text/plain": [
       "True"
      ]
     },
     "execution_count": 8,
     "metadata": {},
     "output_type": "execute_result"
    }
   ],
   "source": [
    "index_name = \"agentic-agent-class\"\n",
    "pc.has_index(index_name)"
   ]
  },
  {
   "cell_type": "code",
   "execution_count": null,
   "id": "1ced9a83",
   "metadata": {},
   "outputs": [],
   "source": [
    "\n",
    "\n",
    "if not pc.has_index(index_name):\n",
    "    pc.create_index(\n",
    "        name = index_name,\n",
    "        dimension = 384,\n",
    "        metric = \"cosine\",\n",
    "        spec = ServerlessSpec(cloud='aws', region='us-east-1'),\n",
    "    )"
   ]
  },
  {
   "cell_type": "markdown",
   "id": "98fabbc8",
   "metadata": {},
   "source": [
    "<h3>Step 3 : Load that Index </h3>"
   ]
  },
  {
   "cell_type": "code",
   "execution_count": 10,
   "id": "24f3a162",
   "metadata": {},
   "outputs": [],
   "source": [
    "index = pc.Index(index_name)"
   ]
  },
  {
   "cell_type": "markdown",
   "id": "e10bb679",
   "metadata": {},
   "source": [
    "<h3>Step 4 : Setting up Vector Store</h3>\n",
    "\n",
    "You're telling LangChain:\n",
    "\n",
    "“Hey, use this Pinecone index for storing and retrieving vectorized documents, and use this embedding model to convert text into vectors.”"
   ]
  },
  {
   "cell_type": "code",
   "execution_count": 16,
   "id": "72a61c9a",
   "metadata": {},
   "outputs": [],
   "source": [
    "#Creating Vector Store\n",
    "from langchain_pinecone import PineconeVectorStore\n",
    "pc_vectorstore = PineconeVectorStore(index=index,embedding=hf_embeddings)"
   ]
  },
  {
   "cell_type": "markdown",
   "id": "62db7371",
   "metadata": {},
   "source": [
    "<h3>Step 5 : Add Documents</h3>"
   ]
  },
  {
   "cell_type": "markdown",
   "id": "e09a32ee",
   "metadata": {},
   "source": [
    "<h5> 5.1 : documents </h5>"
   ]
  },
  {
   "cell_type": "code",
   "execution_count": 19,
   "id": "2c7d1f7e",
   "metadata": {},
   "outputs": [],
   "source": [
    "from langchain_core.documents import Document\n",
    "document_1 = Document(\n",
    "    page_content=\"I had chocolate chip pancakes and scrambled eggs for breakfast this morning.\",\n",
    "    metadata={\"source\": \"tweet\"},#additional info\n",
    ")\n",
    "\n",
    "document_2 = Document(\n",
    "    page_content=\"The weather forecast for tomorrow is cloudy and overcast, with a high of 62 degrees.\",\n",
    "    metadata={\"source\": \"news\"},\n",
    ")\n",
    "\n",
    "document_3 = Document(\n",
    "    page_content=\"Building an exciting new project with LangChain - come check it out!\",\n",
    "    metadata={\"source\": \"tweet\"},\n",
    ")\n",
    "\n",
    "document_4 = Document(\n",
    "    page_content=\"Robbers broke into the city bank and stole $1 million in cash.\",\n",
    "    metadata={\"source\": \"news\"},\n",
    ")\n",
    "\n",
    "document_5 = Document(\n",
    "    page_content=\"Wow! That was an amazing movie. I can't wait to see it again.\",\n",
    "    metadata={\"source\": \"tweet\"},\n",
    ")\n",
    "\n",
    "document_6 = Document(\n",
    "    page_content=\"Is the new iPhone worth the price? Read this review to find out.\",\n",
    "    metadata={\"source\": \"website\"},\n",
    ")\n",
    "\n",
    "document_7 = Document(\n",
    "    page_content=\"The top 10 soccer players in the world right now.\",\n",
    "    metadata={\"source\": \"website\"},\n",
    ")\n",
    "\n",
    "document_8 = Document(\n",
    "    page_content=\"LangGraph is the best framework for building stateful, agentic applications!\",\n",
    "    metadata={\"source\": \"tweet\"},\n",
    ")\n",
    "\n",
    "document_9 = Document(\n",
    "    page_content=\"The stock market is down 500 points today due to fears of a recession.\",\n",
    "    metadata={\"source\": \"news\"},\n",
    ")\n",
    "\n",
    "document_10 = Document(\n",
    "    page_content=\"I have a bad feeling I am going to get deleted :(\",\n",
    "    metadata={\"source\": \"tweet\"},\n",
    ")\n",
    "\n",
    "documents = [\n",
    "    document_1,\n",
    "    document_2,\n",
    "    document_3,\n",
    "    document_4,\n",
    "    document_5,\n",
    "    document_6,\n",
    "    document_7,\n",
    "    document_8,\n",
    "    document_9,\n",
    "    document_10,\n",
    "]"
   ]
  },
  {
   "cell_type": "markdown",
   "id": "d17df48b",
   "metadata": {},
   "source": [
    "<h5> 5.2 : Generating keys for each document</h5>"
   ]
  },
  {
   "cell_type": "code",
   "execution_count": 24,
   "id": "ce1ec012",
   "metadata": {},
   "outputs": [
    {
     "data": {
      "text/plain": [
       "['080d696f-bd9d-4b77-9369-a28d48ae0609',\n",
       " '10f54f6e-ee16-4188-b515-7ba1e7d167d6',\n",
       " '4518a287-3c8a-4db8-bb61-a8f6368be835',\n",
       " 'af142375-c9ce-43fe-887f-1260368b83dc',\n",
       " '5e1e11ee-c934-45df-88f3-82b1fbcfd427',\n",
       " '84de0c8a-1f95-4e76-ae4e-8a7f90ec5491',\n",
       " '1b6686d0-5575-4d9a-935e-c9a75cba73e3',\n",
       " '886cf346-0423-4672-b5a3-0195b65b6a11',\n",
       " '0605e264-5a9f-43cf-8a8d-ee9d5d87b85f',\n",
       " '7595dc34-ee3a-47e0-86f8-50a914e0d8a5']"
      ]
     },
     "execution_count": 24,
     "metadata": {},
     "output_type": "execute_result"
    }
   ],
   "source": [
    "\n",
    "from uuid import uuid4\n",
    "uuids = [ str(uuid4()) for _ in range(len(documents)) ]\n",
    "uuids"
   ]
  },
  {
   "cell_type": "markdown",
   "id": "366ca862",
   "metadata": {},
   "source": [
    "<h5> Step 6 : Adding documents and keys to Vector Store</h5>"
   ]
  },
  {
   "cell_type": "code",
   "execution_count": 40,
   "id": "26f302c9",
   "metadata": {},
   "outputs": [
    {
     "data": {
      "text/plain": [
       "['080d696f-bd9d-4b77-9369-a28d48ae0609',\n",
       " '10f54f6e-ee16-4188-b515-7ba1e7d167d6',\n",
       " '4518a287-3c8a-4db8-bb61-a8f6368be835',\n",
       " 'af142375-c9ce-43fe-887f-1260368b83dc',\n",
       " '5e1e11ee-c934-45df-88f3-82b1fbcfd427',\n",
       " '84de0c8a-1f95-4e76-ae4e-8a7f90ec5491',\n",
       " '1b6686d0-5575-4d9a-935e-c9a75cba73e3',\n",
       " '886cf346-0423-4672-b5a3-0195b65b6a11',\n",
       " '0605e264-5a9f-43cf-8a8d-ee9d5d87b85f',\n",
       " '7595dc34-ee3a-47e0-86f8-50a914e0d8a5']"
      ]
     },
     "execution_count": 40,
     "metadata": {},
     "output_type": "execute_result"
    }
   ],
   "source": [
    "pc_vectorstore.add_documents(documents=documents, ids=uuids)"
   ]
  },
  {
   "cell_type": "code",
   "execution_count": 42,
   "id": "216bdfdf",
   "metadata": {},
   "outputs": [
    {
     "data": {
      "text/plain": [
       "{'dimension': 384,\n",
       " 'index_fullness': 0.0,\n",
       " 'metric': 'cosine',\n",
       " 'namespaces': {'': {'vector_count': 10}},\n",
       " 'total_vector_count': 10,\n",
       " 'vector_type': 'dense'}"
      ]
     },
     "execution_count": 42,
     "metadata": {},
     "output_type": "execute_result"
    }
   ],
   "source": [
    "index.describe_index_stats()"
   ]
  },
  {
   "cell_type": "code",
   "execution_count": 71,
   "id": "4389de5b",
   "metadata": {},
   "outputs": [
    {
     "data": {
      "text/plain": [
       "[Document(id='af142375-c9ce-43fe-887f-1260368b83dc', metadata={'source': 'news'}, page_content='Robbers broke into the city bank and stole $1 million in cash.'),\n",
       " Document(id='080d696f-bd9d-4b77-9369-a28d48ae0609', metadata={'source': 'tweet'}, page_content='I had chocolate chip pancakes and scrambled eggs for breakfast this morning.'),\n",
       " Document(id='84de0c8a-1f95-4e76-ae4e-8a7f90ec5491', metadata={'source': 'website'}, page_content='Is the new iPhone worth the price? Read this review to find out.')]"
      ]
     },
     "execution_count": 71,
     "metadata": {},
     "output_type": "execute_result"
    }
   ],
   "source": [
    "#Checking  Similarity\n",
    "pc_vectorstore.similarity_search(\"do you robbed\",k=3)"
   ]
  },
  {
   "cell_type": "code",
   "execution_count": 47,
   "id": "ecd7919b",
   "metadata": {},
   "outputs": [
    {
     "data": {
      "text/plain": [
       "[Document(id='080d696f-bd9d-4b77-9369-a28d48ae0609', metadata={'source': 'tweet'}, page_content='I had chocolate chip pancakes and scrambled eggs for breakfast this morning.'),\n",
       " Document(id='7595dc34-ee3a-47e0-86f8-50a914e0d8a5', metadata={'source': 'tweet'}, page_content='I have a bad feeling I am going to get deleted :('),\n",
       " Document(id='5e1e11ee-c934-45df-88f3-82b1fbcfd427', metadata={'source': 'tweet'}, page_content=\"Wow! That was an amazing movie. I can't wait to see it again.\"),\n",
       " Document(id='886cf346-0423-4672-b5a3-0195b65b6a11', metadata={'source': 'tweet'}, page_content='LangGraph is the best framework for building stateful, agentic applications!')]"
      ]
     },
     "execution_count": 47,
     "metadata": {},
     "output_type": "execute_result"
    }
   ],
   "source": [
    "#Checking  Similarity\n",
    "pc_vectorstore.similarity_search(\"do you robbed\",filter={\"source\":\"tweet\"},)"
   ]
  },
  {
   "cell_type": "markdown",
   "id": "178ea4cd",
   "metadata": {},
   "source": [
    "<h5>Step 6 : Configure Retriever</h5>"
   ]
  },
  {
   "cell_type": "code",
   "execution_count": 76,
   "id": "f9bb4396",
   "metadata": {},
   "outputs": [],
   "source": [
    "# Setting up the vector store\n",
    "retriever = pc_vectorstore.as_retriever(\n",
    ")"
   ]
  },
  {
   "cell_type": "code",
   "execution_count": 77,
   "id": "ca74957f",
   "metadata": {},
   "outputs": [
    {
     "data": {
      "text/plain": [
       "[Document(id='af142375-c9ce-43fe-887f-1260368b83dc', metadata={'source': 'news'}, page_content='Robbers broke into the city bank and stole $1 million in cash.'),\n",
       " Document(id='84de0c8a-1f95-4e76-ae4e-8a7f90ec5491', metadata={'source': 'website'}, page_content='Is the new iPhone worth the price? Read this review to find out.'),\n",
       " Document(id='080d696f-bd9d-4b77-9369-a28d48ae0609', metadata={'source': 'tweet'}, page_content='I had chocolate chip pancakes and scrambled eggs for breakfast this morning.'),\n",
       " Document(id='0605e264-5a9f-43cf-8a8d-ee9d5d87b85f', metadata={'source': 'news'}, page_content='The stock market is down 500 points today due to fears of a recession.')]"
      ]
     },
     "execution_count": 77,
     "metadata": {},
     "output_type": "execute_result"
    }
   ],
   "source": [
    "retriever.invoke(\"is robbery crime?\")"
   ]
  },
  {
   "cell_type": "markdown",
   "id": "b55e84e3",
   "metadata": {},
   "source": [
    "<h4>Step 7 : setup Model,Prompt,Parser</h4>"
   ]
  },
  {
   "cell_type": "markdown",
   "id": "1b6b16f2",
   "metadata": {},
   "source": [
    "<h5>7.1 : Model</h5>"
   ]
  },
  {
   "cell_type": "code",
   "execution_count": 51,
   "id": "7ba9b44c",
   "metadata": {},
   "outputs": [],
   "source": [
    "from langchain_google_genai import ChatGoogleGenerativeAI\n",
    "model = ChatGoogleGenerativeAI(model = \"gemini-1.5-flash\") "
   ]
  },
  {
   "cell_type": "markdown",
   "id": "7511ffc0",
   "metadata": {},
   "source": [
    "<h5>7.2 : Prompt</h5>"
   ]
  },
  {
   "cell_type": "code",
   "execution_count": 55,
   "id": "cdd8f375",
   "metadata": {},
   "outputs": [
    {
     "name": "stdout",
     "output_type": "stream",
     "text": [
      "input_variables=['context', 'question'] input_types={} partial_variables={} metadata={'lc_hub_owner': 'rlm', 'lc_hub_repo': 'rag-prompt', 'lc_hub_commit_hash': '50442af133e61576e74536c6556cefe1fac147cad032f4377b60c436e6cdcb6e'} messages=[HumanMessagePromptTemplate(prompt=PromptTemplate(input_variables=['context', 'question'], input_types={}, partial_variables={}, template=\"You are an assistant for question-answering tasks. Use the following pieces of retrieved context to answer the question. If you don't know the answer, just say that you don't know. Use three sentences maximum and keep the answer concise.\\nQuestion: {question} \\nContext: {context} \\nAnswer:\"), additional_kwargs={})]\n"
     ]
    }
   ],
   "source": [
    "from langchain import hub\n",
    "prompt = hub.pull(\"rlm/rag-prompt\")\n",
    "print(prompt)"
   ]
  },
  {
   "cell_type": "code",
   "execution_count": null,
   "id": "9f53c8f9",
   "metadata": {},
   "outputs": [],
   "source": [
    "#just skipped because of low time\n",
    "from langchain_core.prompts import PromptTemplate\n",
    "prompt = PromptTemplate(\n",
    "    template=\"\",\n",
    "    input_variables=[\"question\",\"context\"]\n",
    ")"
   ]
  },
  {
   "cell_type": "markdown",
   "id": "2cf422a4",
   "metadata": {},
   "source": [
    "<h5>7.3 : Parser</h5>"
   ]
  },
  {
   "cell_type": "code",
   "execution_count": null,
   "id": "b3b1ee93",
   "metadata": {},
   "outputs": [],
   "source": [
    "from langchain_core.output_parsers import StrOutputParser\n",
    "output_parser = StrOutputParser()"
   ]
  },
  {
   "cell_type": "markdown",
   "id": "cc6d77a4",
   "metadata": {},
   "source": [
    "<h5> Step 8 : Setup Context</h5>"
   ]
  },
  {
   "cell_type": "code",
   "execution_count": 95,
   "id": "e8e75679",
   "metadata": {},
   "outputs": [],
   "source": [
    "from langchain_core.runnables import RunnablePassthrough\n",
    "def format_docs(docs):\n",
    "    return \"\\n\\n\".join(doc.page_content for doc in docs)\n",
    "context = {\"context\":retriever | format_docs, \"question\":RunnablePassthrough()}"
   ]
  },
  {
   "cell_type": "markdown",
   "id": "353baab6",
   "metadata": {},
   "source": [
    "<h4>Step 9 : Create RAG Chain</h4>"
   ]
  },
  {
   "cell_type": "code",
   "execution_count": 101,
   "id": "e8698a5e",
   "metadata": {},
   "outputs": [],
   "source": [
    "rag_chain = (\n",
    "    context\n",
    "    | prompt \n",
    "    | model \n",
    "    | StrOutputParser()\n",
    "    )"
   ]
  },
  {
   "cell_type": "markdown",
   "id": "7a2fbc85",
   "metadata": {},
   "source": [
    "<h5>Step 10 : Ready to query</h5>"
   ]
  },
  {
   "cell_type": "code",
   "execution_count": 102,
   "id": "02036ba7",
   "metadata": {},
   "outputs": [
    {
     "data": {
      "text/plain": [
       "\"I don't know.  The provided text does not contain information about Llama models.\""
      ]
     },
     "execution_count": 102,
     "metadata": {},
     "output_type": "execute_result"
    }
   ],
   "source": [
    "rag_chain.invoke(\"what is llama model?\")"
   ]
  },
  {
   "cell_type": "code",
   "execution_count": 90,
   "id": "67ec55ba",
   "metadata": {},
   "outputs": [
    {
     "name": "stdout",
     "output_type": "stream",
     "text": [
      "<class 'langchain_core.runnables.base.RunnableParallel<context,question>Input'>\n"
     ]
    }
   ],
   "source": [
    "print(rag_chain.input_schema)\n"
   ]
  },
  {
   "cell_type": "code",
   "execution_count": 80,
   "id": "81034d18",
   "metadata": {},
   "outputs": [
    {
     "data": {
      "text/plain": [
       "AIMessage(content='Hi there! How can I help you today?', additional_kwargs={}, response_metadata={'prompt_feedback': {'block_reason': 0, 'safety_ratings': []}, 'finish_reason': 'STOP', 'model_name': 'gemini-1.5-flash', 'safety_ratings': []}, id='run--d6e21dd7-c2ba-4b86-b8e3-2222cd5df2e5-0', usage_metadata={'input_tokens': 1, 'output_tokens': 11, 'total_tokens': 12, 'input_token_details': {'cache_read': 0}})"
      ]
     },
     "execution_count": 80,
     "metadata": {},
     "output_type": "execute_result"
    }
   ],
   "source": [
    "model.invoke(\"hi\")"
   ]
  },
  {
   "cell_type": "code",
   "execution_count": 86,
   "id": "bb66a926",
   "metadata": {},
   "outputs": [
    {
     "data": {
      "text/plain": [
       "ChatPromptValue(messages=[HumanMessage(content=\"You are an assistant for question-answering tasks. Use the following pieces of retrieved context to answer the question. If you don't know the answer, just say that you don't know. Use three sentences maximum and keep the answer concise.\\nQuestion: hey \\nContext:  \\nAnswer:\", additional_kwargs={}, response_metadata={})])"
      ]
     },
     "execution_count": 86,
     "metadata": {},
     "output_type": "execute_result"
    }
   ],
   "source": [
    "prompt.invoke({\n",
    "    \"question\":\"hey\",\n",
    "    \"context\":\"\"\n",
    "    })"
   ]
  }
 ],
 "metadata": {
  "kernelspec": {
   "display_name": "Python 3",
   "language": "python",
   "name": "python3"
  },
  "language_info": {
   "codemirror_mode": {
    "name": "ipython",
    "version": 3
   },
   "file_extension": ".py",
   "mimetype": "text/x-python",
   "name": "python",
   "nbconvert_exporter": "python",
   "pygments_lexer": "ipython3",
   "version": "3.13.0"
  }
 },
 "nbformat": 4,
 "nbformat_minor": 5
}
